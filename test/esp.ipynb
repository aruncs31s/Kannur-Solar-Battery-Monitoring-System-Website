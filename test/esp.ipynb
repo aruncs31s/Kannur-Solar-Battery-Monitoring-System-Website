{
 "cells": [
  {
   "cell_type": "code",
   "execution_count": 2,
   "id": "0b620d34",
   "metadata": {},
   "outputs": [],
   "source": [
    "import csv\n",
    "\n",
    "class ESP_DEVICES:\n",
    "        def __init__(self,csvfile):\n",
    "                self.csvfile = csvfile\n",
    "                self.device_list = []\n",
    "                self.all_details = []\n",
    "                try: \n",
    "                    with open(self.csvfile, newline=\"\") as csvFile:\n",
    "                        reader = csv.DictReader(csvFile)\n",
    "                        for row in reader:\n",
    "                            self.device_list.append(row[\"IP\"])\n",
    "                            self.all_details.append( { \n",
    "                                \"assigned_place\": row[\"Assigned_Place\"],\n",
    "                                \"status\": row[\"Status\"],\n",
    "                                \"ip\": row[\"IP\"],    \n",
    "                            })\n",
    "                            # print(row[\"IP\"])\n",
    "                except Exception as e :\n",
    "                      print(\"Error occured in Esp.py\" , e)\n",
    "        def get_esp_ip(self):\n",
    "            return self.device_list\n",
    "        def get_esp_details(self):\n",
    "             return self.all_details\n",
    "if __name__ == \"__main__\":\n",
    "    esp_devices = ESP_DEVICES(\"devices.csv\")\n",
    "    # print(esp_devices.get_esp_ip())\n",
    "    # print(esp_devices.get_esp_details())\n",
    "    \n",
    "    data = esp_devices.get_esp_details()\n"
   ]
  },
  {
   "cell_type": "code",
   "execution_count": 3,
   "id": "0cd45896",
   "metadata": {},
   "outputs": [
    {
     "name": "stdout",
     "output_type": "stream",
     "text": [
      "{'assigned_place': 'Parassini_Kadavu', 'status': 'Active', 'ip': '192.168.1.2'}\n",
      "{'assigned_place': 'Kannur', 'status': 'Inactive', 'ip': '192.168.1.3'}\n",
      "{'assigned_place': 'Chittariparamba', 'status': 'Active', 'ip': '192.168.1.4'}\n",
      "{'assigned_place': 'Kuthuparamba', 'status': 'Inactive', 'ip': '192.168.1.5'}\n",
      "{'assigned_place': 'Dharmassala', 'status': 'Active', 'ip': '192.168.1.6'}\n",
      "{'assigned_place': 'Vattoli', 'status': 'Active', 'ip': '192.168.1.7'}\n",
      "{'assigned_place': 'Kolmotta', 'status': 'Active', 'ip': '192.168.1.8'}\n",
      "{'assigned_place': 'Podikkundu', 'status': 'Active', 'ip': '192.168.1.9'}\n",
      "{'assigned_place': 'Kozhikode', 'status': 'Active', 'ip': '192.168.1.10'}\n",
      "{'assigned_place': 'xyz', 'status': 'Active', 'ip': '192.168.1.11'}\n",
      "{'assigned_place': 'MHB', 'status': 'Active', 'ip': '192.168.1.22'}\n"
     ]
    }
   ],
   "source": [
    "for i in data:\n",
    "    print(i)"
   ]
  },
  {
   "cell_type": "code",
   "execution_count": 4,
   "id": "74a8931a",
   "metadata": {},
   "outputs": [
    {
     "name": "stdout",
     "output_type": "stream",
     "text": [
      "Parassini_Kadavu\n",
      "Kannur\n",
      "Chittariparamba\n",
      "Kuthuparamba\n",
      "Dharmassala\n",
      "Vattoli\n",
      "Kolmotta\n",
      "Podikkundu\n",
      "Kozhikode\n",
      "xyz\n",
      "MHB\n"
     ]
    }
   ],
   "source": [
    "for i in data:\n",
    "    print(i[\"assigned_place\"])"
   ]
  },
  {
   "cell_type": "code",
   "execution_count": 7,
   "id": "86b576df",
   "metadata": {},
   "outputs": [
    {
     "name": "stdout",
     "output_type": "stream",
     "text": [
      "[{'assigned_place': 'Parassini_Kadavu', 'status': 'Active', 'ip': '192.168.1.2'}, {'assigned_place': 'Kannur', 'status': 'Inactive', 'ip': '192.168.1.3'}, {'assigned_place': 'Chittariparamba', 'status': 'Active', 'ip': '192.168.1.4'}, {'assigned_place': 'Kuthuparamba', 'status': 'Inactive', 'ip': '192.168.1.5'}, {'assigned_place': 'Dharmassala', 'status': 'Active', 'ip': '192.168.1.6'}, {'assigned_place': 'Vattoli', 'status': 'Active', 'ip': '192.168.1.7'}, {'assigned_place': 'Kolmotta', 'status': 'Active', 'ip': '192.168.1.8'}, {'assigned_place': 'Podikkundu', 'status': 'Active', 'ip': '192.168.1.9'}, {'assigned_place': 'Kozhikode', 'status': 'Active', 'ip': '192.168.1.10'}, {'assigned_place': 'xyz', 'status': 'Active', 'ip': '192.168.1.11'}, {'assigned_place': 'MHB', 'status': 'Active', 'ip': '192.168.1.22'}]\n",
      "{'assigned_place': 'Parassini_Kadavu', 'status': 'Active', 'ip': '192.168.1.2'}\n",
      "{'assigned_place': 'Kannur', 'status': 'Inactive', 'ip': '192.168.1.3'}\n",
      "{'assigned_place': 'Chittariparamba', 'status': 'Active', 'ip': '192.168.1.4'}\n",
      "{'assigned_place': 'Kuthuparamba', 'status': 'Inactive', 'ip': '192.168.1.5'}\n",
      "{'assigned_place': 'Dharmassala', 'status': 'Active', 'ip': '192.168.1.6'}\n",
      "{'assigned_place': 'Vattoli', 'status': 'Active', 'ip': '192.168.1.7'}\n",
      "{'assigned_place': 'Kolmotta', 'status': 'Active', 'ip': '192.168.1.8'}\n",
      "{'assigned_place': 'Podikkundu', 'status': 'Active', 'ip': '192.168.1.9'}\n",
      "{'assigned_place': 'Kozhikode', 'status': 'Active', 'ip': '192.168.1.10'}\n",
      "{'assigned_place': 'xyz', 'status': 'Active', 'ip': '192.168.1.11'}\n",
      "{'assigned_place': 'MHB', 'status': 'Active', 'ip': '192.168.1.22'}\n"
     ]
    }
   ],
   "source": [
    "devices = []\n",
    "for row in data:\n",
    "        '''\n",
    "        eg {'assigned_place': 'Parassini_Kadavu',\n",
    "            'status': 'Active',\n",
    "            'ip': '192.168.1.2'}\n",
    "        '''\n",
    "        device = {\n",
    "            \"assigned_place\": row[\"assigned_place\"],\n",
    "            \"status\": row[\"status\"],\n",
    "            \"ip\": row[\"ip\"],\n",
    "        }\n",
    "        devices.append(device)\n",
    "\n",
    "print(devices)\n",
    "for i in devices:\n",
    "        print(i)"
   ]
  },
  {
   "cell_type": "code",
   "execution_count": 8,
   "id": "28fed240",
   "metadata": {},
   "outputs": [
    {
     "name": "stdout",
     "output_type": "stream",
     "text": [
      "2025-05-05\n"
     ]
    }
   ],
   "source": [
    "from datetime import datetime\n",
    "print(datetime.today().date())"
   ]
  }
 ],
 "metadata": {
  "kernelspec": {
   "display_name": ".venv",
   "language": "python",
   "name": "python3"
  },
  "language_info": {
   "codemirror_mode": {
    "name": "ipython",
    "version": 3
   },
   "file_extension": ".py",
   "mimetype": "text/x-python",
   "name": "python",
   "nbconvert_exporter": "python",
   "pygments_lexer": "ipython3",
   "version": "3.13.3"
  }
 },
 "nbformat": 4,
 "nbformat_minor": 5
}
