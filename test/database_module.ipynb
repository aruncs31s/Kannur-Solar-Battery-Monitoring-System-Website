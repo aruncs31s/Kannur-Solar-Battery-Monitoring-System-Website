{
 "cells": [
  {
   "cell_type": "code",
   "execution_count": 2,
   "metadata": {},
   "outputs": [],
   "source": [
    "import sqlite3\n",
    "from datetime import datetime\n",
    "import os \n",
    "import csv \n",
    "\n",
    "debug=1\n",
    "\n",
    "# Register the adapter for datetime\n",
    "sqlite3.register_adapter(datetime, lambda val: val.isoformat())\n",
    "sqlite3.register_converter(\"DATETIME\", lambda val: datetime.fromisoformat(val.decode(\"utf-8\")))\n",
    "\n",
    "class Database:\n",
    "    def __init__(self,databse_name):\n",
    "        self.conn = sqlite3.connect(databse_name,detect_types=sqlite3.PARSE_DECLTYPES)\n",
    "        self.cursor = self.conn.cursor()\n",
    "        #  This function should be only called ones\n",
    "        self.cursor.execute('''\n",
    "                        CREATE TABLE IF NOT EXISTS device_info (\n",
    "                            id INTEGER PRIMARY KEY AUTOINCREMENT,\n",
    "                            ip_address TEXT NOT NULL,\n",
    "                            assigned_place TEXT NOT NULL,\n",
    "                            main_node TEXT NOT NULL,\n",
    "                            created_data DATETIME NOT NULL DEFAULT CURRENT_TIMESTAMP\n",
    "                        )\n",
    "                        ''')\n",
    "        # Create the timeseries_data table \n",
    "        self.cursor.execute('''\n",
    "                    CREATE TABLE IF NOT EXISTS timeseries_data (\n",
    "                        id INTEGER PRIMARY KEY AUTOINCREMENT,\n",
    "                        device_id TEXT NOT NULL,\n",
    "                        timestamp DATETIME NOT NULL,\n",
    "                        voltage REAL NOT NULL,\n",
    "                        FOREIGN KEY (device_id) REFERENCES device_info (id)\n",
    "                    )\n",
    "                    ''')\n",
    "    # Function to insert a new device\n",
    "    def insert_device(self,ip_address, assigned_place, main_node):\n",
    "        self.cursor.execute('''\n",
    "            INSERT INTO device_info ( ip_address, assigned_place, main_node)\n",
    "            VALUES (?, ?, ?)\n",
    "        ''', (ip_address,assigned_place, main_node))\n",
    "        self.conn.commit()\n",
    "    # Function to insert a new device\n",
    "    def insert_device(self,ip_address, assigned_place, main_node):\n",
    "        self.cursor.execute('''\n",
    "            INSERT INTO device_info ( ip_address, assigned_place, main_node)\n",
    "            VALUES (?, ?, ?)\n",
    "        ''', (ip_address,assigned_place, main_node))\n",
    "        self.conn.commit()\n",
    "    def upate_device_list(self,csv_file_name):\n",
    "        with open(csv_file_name, 'r') as file:\n",
    "            reader = csv.reader(file)\n",
    "            for row in reader:\n",
    "                print(row)\n",
    "                if(self.device_exists(row[0])):\n",
    "                    if(debug):\n",
    "                        print(f'ip: {row[0]} is already exists')\n",
    "                else:\n",
    "                    self.insert_device(row[0], row[1], row[4])\n",
    "                    if(debug):\n",
    "                        print(f'ip: {row[0]} , place: {row[1]} , main_node {row[4]}')\n",
    "                    print(f'Device Name: {row[0]}')\n",
    "    def device_exists(self,ip_address):\n",
    "        self.cursor.execute('''\n",
    "        SELECT COUNT(*) FROM device_info WHERE ip_address = ?\n",
    "        ''', (ip_address,))\n",
    "        count = self.cursor.fetchone()[0]\n",
    "        return count > 0\n",
    "    # Function to insert timeseries data\n",
    "    def insert_timeseries_data(self,device_id, voltage):\n",
    "        # iam planning to use the ip as the device id .\n",
    "        timestamp = datetime.now()\n",
    "        self.cursor.execute('''\n",
    "        INSERT INTO timeseries_data (device_id, timestamp, voltage)\n",
    "        VALUES (?, ?, ?)\n",
    "        ''', (device_id, timestamp, voltage))\n",
    "        self.conn.commit()\n",
    "    # device id ? 1 try using the ip as the device id?? \n",
    "    def get_timeseries_data(self,device_id):\n",
    "        self.cursor.execute('''\n",
    "        SELECT * FROM timeseries_data WHERE device_id = ?\n",
    "        ''', (device_id,))\n",
    "        rows = self.cursor.fetchall()\n",
    "        for row in rows:\n",
    "            print(row[3])\n",
    "            # print('hi')\n",
    "    ''' implement a function that takes the device id and data{battery voltage } as the params and insert the data into the database'''\n",
    "    '''also implement a function to retrive data acording to date , month , week etc .. args{device_id , something to specify the date range}'''\n",
    "     "
   ]
  },
  {
   "cell_type": "code",
   "execution_count": 5,
   "metadata": {},
   "outputs": [
    {
     "ename": "TypeError",
     "evalue": "Database() takes no arguments",
     "output_type": "error",
     "traceback": [
      "\u001b[0;31m---------------------------------------------------------------------------\u001b[0m",
      "\u001b[0;31mTypeError\u001b[0m                                 Traceback (most recent call last)",
      "Cell \u001b[0;32mIn[5], line 2\u001b[0m\n\u001b[1;32m      1\u001b[0m csvFile \u001b[38;5;241m=\u001b[39m \u001b[38;5;124m'\u001b[39m\u001b[38;5;124mdevices.csv\u001b[39m\u001b[38;5;124m'\u001b[39m\n\u001b[0;32m----> 2\u001b[0m db \u001b[38;5;241m=\u001b[39m \u001b[43mDatabase\u001b[49m\u001b[43m(\u001b[49m\u001b[38;5;124;43m'\u001b[39;49m\u001b[38;5;124;43mbattery_radings.db\u001b[39;49m\u001b[38;5;124;43m'\u001b[39;49m\u001b[43m)\u001b[49m\n\u001b[1;32m      3\u001b[0m db\u001b[38;5;241m.\u001b[39mupate_device_list(csvFile)\n",
      "\u001b[0;31mTypeError\u001b[0m: Database() takes no arguments"
     ]
    }
   ],
   "source": [
    "csvFile = 'devices.csv'\n",
    "db = Database('battery_radings.db')\n",
    "db.upate_device_list(csvFile)"
   ]
  },
  {
   "cell_type": "code",
   "execution_count": null,
   "metadata": {},
   "outputs": [],
   "source": [
    "\n",
    "def get_data_by_date_range(self, device_id, start_date, end_date):\n",
    "    db.cursor.execute('''\n",
    "    SELECT * FROM timeseries_data \n",
    "    WHERE device_id = ? AND timestamp BETWEEN ? AND ?\n",
    "    ''', (device_id, start_date, end_date))\n",
    "    rows = db.cursor.fetchall()\n",
    "    return rows\n",
    "get_data_by_date_range(device_id='192.168.1.2')\n"
   ]
  },
  {
   "cell_type": "code",
   "execution_count": 13,
   "metadata": {},
   "outputs": [
    {
     "name": "stdout",
     "output_type": "stream",
     "text": [
      "init\n",
      "10\n"
     ]
    }
   ],
   "source": [
    "class TestClass: \n",
    "    def __init__(self):\n",
    "        print('init')\n",
    "        self.k = 10 \n",
    "    def test(self):\n",
    "        print('test')\n",
    "\n",
    "p = TestClass()\n",
    "def print_k():\n",
    "    print(p.k)\n",
    "print_k()"
   ]
  },
  {
   "cell_type": "code",
   "execution_count": null,
   "metadata": {},
   "outputs": [
    {
     "name": "stdout",
     "output_type": "stream",
     "text": [
      "None\n"
     ]
    }
   ],
   "source": [
    "def insert_timeseries_data(device_id, voltage):\n",
    "    # iam planning to use the ip as the device id .\n",
    "    timestamp = datetime.now()\n",
    "    db.cursor.execute('''\n",
    "    INSERT INTO timeseries_data (device_id, timestamp, voltage)\n",
    "    VALUES (?, ?, ?)\n",
    "    ''', (device_id, timestamp, voltage))\n",
    "    db.conn.commit()\n",
    "insert_timeseries_data(device_id='192.168.1.2',voltage=10.5)\n",
    "for i in range(100):\n",
    "    insert_timeseries_data(device_id='192.168.1.2',voltage=i)\n"
   ]
  },
  {
   "cell_type": "code",
   "execution_count": null,
   "metadata": {},
   "outputs": [],
   "source": [
    "def get_timeseries_data(device_id):\n",
    "    db.cursor.execute('''\n",
    "    SELECT * FROM timeseries_data WHERE device_id = ?\n",
    "    ''', (device_id,))\n",
    "    rows = db.cursor.fetchall()\n",
    "    for row in rows:\n",
    "        print(row[3])"
   ]
  },
  {
   "cell_type": "code",
   "execution_count": null,
   "metadata": {},
   "outputs": [],
   "source": [
    "# get the data from the database \n",
    "data = []\n",
    "ip = '192.168.1.2 '.strip()\n",
    "get_timeseries_data(ip)"
   ]
  }
 ],
 "metadata": {
  "kernelspec": {
   "display_name": ".venv",
   "language": "python",
   "name": "python3"
  },
  "language_info": {
   "codemirror_mode": {
    "name": "ipython",
    "version": 3
   },
   "file_extension": ".py",
   "mimetype": "text/x-python",
   "name": "python",
   "nbconvert_exporter": "python",
   "pygments_lexer": "ipython3",
   "version": "3.13.2"
  }
 },
 "nbformat": 4,
 "nbformat_minor": 2
}
