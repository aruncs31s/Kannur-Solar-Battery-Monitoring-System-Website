{
 "cells": [
  {
   "cell_type": "code",
   "execution_count": null,
   "metadata": {},
   "outputs": [
    {
     "name": "stdout",
     "output_type": "stream",
     "text": [
      "['IP', 'Assigned_Place', 'Status', 'Date of Creation', 'Main_Node', 'Nearby_Nodes']\n",
      "ip: IP , place: Assigned_Place , main_node Main_Node\n",
      "Device Name: IP\n",
      "['192.168.1.2', 'Parassini_Kadavu', 'Active', '2024-10-01', 'Kannur', 'Dharmassala']\n",
      "ip: 192.168.1.2 is already exists\n",
      "['192.168.1.3', 'Kannur', 'Inactive', '2024-10-02', 'Kannur', 'Kannur']\n",
      "ip: 192.168.1.3 is already exists\n",
      "['192.168.1.4', 'Chittariparamba', 'Active', '2024-10-03', 'Kannur', 'Kuthuparamba']\n",
      "ip: 192.168.1.4 is already exists\n",
      "['192.168.1.5', 'Kuthuparamba', 'Inactive', '2024-10-04', 'Kannur', 'Kannur']\n",
      "ip: 192.168.1.5 is already exists\n",
      "['192.168.1.6', 'Dharmassala', 'Active', '2024-10-05', 'Kannur', 'Kannur']\n",
      "ip: 192.168.1.6 is already exists\n",
      "['192.168.1.7', 'Vattoli', 'Active', '2024-10-05', 'Kannur', 'Kuthuparamba']\n",
      "ip: 192.168.1.7 is already exists\n",
      "['192.168.1.8', 'Kolmotta', 'Active', '2024-10-05', 'Kannur', 'Dharmassala']\n",
      "ip: 192.168.1.8 is already exists\n",
      "['192.168.1.9', 'Podikkundu', 'Active', '2024-10-05', 'Kannur', 'Caltex']\n",
      "ip: 192.168.1.9 is already exists\n",
      "['192.168.1.10', 'Kozhikode', 'Active', '2024-10-05', 'KozhiKode', 'KozhiKode']\n",
      "ip: 192.168.1.10 is already exists\n",
      "['192.168.1.11', 'xyz', 'Active', '2024-10-05', 'KozhiKode', 'xyz']\n",
      "ip: 192.168.1.11 is already exists\n"
     ]
    }
   ],
   "source": [
    "from database import Database\n",
    "\n",
    "csvFile = 'devices.csv'\n",
    "db = Database('battery_radings.db')\n",
    "db.upate_device_list(csv_file_name=csvFile)\n"
   ]
  },
  {
   "cell_type": "code",
   "execution_count": null,
   "metadata": {},
   "outputs": [],
   "source": []
  }
 ],
 "metadata": {
  "kernelspec": {
   "display_name": ".venv",
   "language": "python",
   "name": "python3"
  },
  "language_info": {
   "codemirror_mode": {
    "name": "ipython",
    "version": 3
   },
   "file_extension": ".py",
   "mimetype": "text/x-python",
   "name": "python",
   "nbconvert_exporter": "python",
   "pygments_lexer": "ipython3",
   "version": "3.13.2"
  }
 },
 "nbformat": 4,
 "nbformat_minor": 2
}
