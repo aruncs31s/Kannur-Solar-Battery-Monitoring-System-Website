{
 "cells": [
  {
   "cell_type": "code",
   "execution_count": 2,
   "metadata": {},
   "outputs": [
    {
     "name": "stdout",
     "output_type": "stream",
     "text": [
      "['IP', 'Assigned_Place', 'Status', 'Date of Creation', 'Main_Node', 'Nearby_Nodes']\n",
      "ip: IP is already exists\n",
      "['192.168.1.2', 'Parassini_Kadavu', 'Active', '2024-10-01', 'Kannur', 'Dharmassala']\n",
      "ip: 192.168.1.2 is already exists\n",
      "['192.168.1.3', 'Kannur', 'Inactive', '2024-10-02', 'Kannur', 'Kannur']\n",
      "ip: 192.168.1.3 is already exists\n",
      "['192.168.1.4', 'Chittariparamba', 'Active', '2024-10-03', 'Kannur', 'Kuthuparamba']\n",
      "ip: 192.168.1.4 is already exists\n",
      "['192.168.1.5', 'Kuthuparamba', 'Inactive', '2024-10-04', 'Kannur', 'Kannur']\n",
      "ip: 192.168.1.5 is already exists\n",
      "['192.168.1.6', 'Dharmassala', 'Active', '2024-10-05', 'Kannur', 'Kannur']\n",
      "ip: 192.168.1.6 is already exists\n",
      "['192.168.1.7', 'Vattoli', 'Active', '2024-10-05', 'Kannur', 'Kuthuparamba']\n",
      "ip: 192.168.1.7 is already exists\n",
      "['192.168.1.8', 'Kolmotta', 'Active', '2024-10-05', 'Kannur', 'Dharmassala']\n",
      "ip: 192.168.1.8 is already exists\n",
      "['192.168.1.9', 'Podikkundu', 'Active', '2024-10-05', 'Kannur', 'Caltex']\n",
      "ip: 192.168.1.9 is already exists\n",
      "['192.168.1.10', 'Kozhikode', 'Active', '2024-10-05', 'KozhiKode', 'KozhiKode']\n",
      "ip: 192.168.1.10 is already exists\n",
      "['192.168.1.11', 'xyz', 'Active', '2024-10-05', 'KozhiKode', 'xyz']\n",
      "ip: 192.168.1.11 is already exists\n",
      "['192.168.1.22', 'MHB', 'Active', '2024-10-05', 'Kannur', 'Dharmassala']\n",
      "ip: 192.168.1.22 is already exists\n"
     ]
    }
   ],
   "source": [
    "from database import Database\n",
    "csvFile = 'devices.csv'\n",
    "db = Database('../the_database.db')\n",
    "db.upate_device_list(csv_file_name=csvFile)"
   ]
  },
  {
   "cell_type": "markdown",
   "metadata": {},
   "source": [
    "# Inserting the file\n",
    "After doing this the devices in the csv list will become addded to the data base . There are few thigs to consider \n",
    "1. the function is named `upate_device_list` not it not but it is adding  the list "
   ]
  },
  {
   "cell_type": "code",
   "execution_count": null,
   "metadata": {},
   "outputs": [],
   "source": [
    "ip = [f'192.168.1.{i}' for i in range(2, 12)]\n",
    "# print(ip)\n",
    "# import os\n",
    "import time \n",
    "for i in ip:\n",
    "    for vol in range(90):\n",
    "        print(f\"adding {vol} to {i}\")\n",
    "        db.insert_data(i,vol)\n",
    "        # time.sleep(.03)\n",
    "        \n",
    "# db.add_reading('device1',)"
   ]
  },
  {
   "cell_type": "markdown",
   "metadata": {},
   "source": [
    "# Getting the data\n"
   ]
  },
  {
   "cell_type": "code",
   "execution_count": null,
   "metadata": {},
   "outputs": [],
   "source": [
    "\n",
    "# ip = [f'192.168.1.{i}' for i in range(2, 12)]\n",
    "ip = '192.168.1.2'\n",
    "# print(ip)\n",
    "# import os\n",
    "import time \n",
    "from datetime import datetime\n",
    "\n",
    "data = []\n",
    "for i in ip:\n",
    "    rows = db.get_data(ip,'2025-02-26')\n",
    "    data.append(rows)\n",
    "    # print(rows)\n",
    "    # time.sleep(.1)\n",
    "# print(len(rows))\n",
    "# for i in rows[0]:\n",
    "#     print(i)\n",
    "print(data)"
   ]
  },
  {
   "cell_type": "code",
   "execution_count": null,
   "metadata": {},
   "outputs": [],
   "source": [
    "\n",
    "ip = [f'192.168.1.{i}' for i in range(2, 12)]\n",
    "# print(ip)\n",
    "# import os\n",
    "import time \n",
    "from datetime import datetime\n",
    "\n",
    "# now implement a function that can get data with a specific time period \n",
    "for i in ip:\n",
    "    rows = db.get_data(i,datetime.now().date())\n",
    "    print(rows)copilot-lua-cmp\n",
    "    time.sleep(.1)\n"
   ]
  },
  {
   "cell_type": "code",
   "execution_count": null,
   "metadata": {},
   "outputs": [],
   "source": [
    "# get data of a range of data\n",
    "from datetime import timedelta\n",
    "from datetime import datetime\n",
    "start_date = datetime(2025, 2, 25).date()\n",
    "end_date = datetime(2025, 2, 28).date()\n",
    "\n",
    "dates = [start_date + timedelta(days=x) for x in range((end_date - start_date).days + 1)]\n",
    "print(dates)\n",
    "data = [] \n",
    "# # now implement a function that can get data with a specific time period \n",
    "# for i in ip:\n",
    "i = '192.168.1.2'\n",
    "# for date in dates:\n",
    "    # print(date)     \n",
    "rows = db.get_data(i,'2025-02-25')\n",
    "print(rows)\n",
    "for column in rows:\n",
    "    print(column[3])\n",
    "time.sleep(2)\n"
   ]
  },
  {
   "cell_type": "markdown",
   "metadata": {},
   "source": [
    "##### make sure to change the magic number to TIME_INDEX and BAT_INDEX "
   ]
  },
  {
   "cell_type": "markdown",
   "metadata": {},
   "source": [
    "#### old method of geting the top(current) data \n",
    "The old method of getting the top data is \n",
    "\n",
    "```python\n",
    "def get_data():\n",
    "    data = get_esp_data()\n",
    "    data = db.get_data(date=datetime.now().timestamp())\n",
    "    \n",
    "    # print(data)\n",
    "    # return jsonify(data), 200\n",
    "    # this is to just test and ensure that the front page is requesting for the data \n",
    "    return jsonify({\"status\": \"error\", \"message\": \"change_me\"}), 500\n",
    "```\n",
    "It can be reimplemented as \n",
    "\n",
    "\n",
    "```pythondates = [start_date + timedelta(days=x) for x in range((end_date - start_date).days + 1)]\n",
    ")\n",
    "    data = db.get_data(date=datetime.now().time().strftime('%H:%M:%S'))\n",
    "    return jsonify(data), 200\n",
    "    \n",
    "```\n",
    "- [ ] how to make sure if the requested data is in the database"
   ]
  },
  {
   "cell_type": "code",
   "execution_count": 2,
   "metadata": {},
   "outputs": [
    {
     "ename": "NameError",
     "evalue": "name 'datetime' is not defined",
     "output_type": "error",
     "traceback": [
      "\u001b[0;31m---------------------------------------------------------------------------\u001b[0m",
      "\u001b[0;31mNameError\u001b[0m                                 Traceback (most recent call last)",
      "Cell \u001b[0;32mIn[2], line 6\u001b[0m\n\u001b[1;32m      4\u001b[0m     diff \u001b[38;5;241m=\u001b[39m t2 \u001b[38;5;241m-\u001b[39m t1\n\u001b[1;32m      5\u001b[0m     \u001b[38;5;28;01mreturn\u001b[39;00m diff\u001b[38;5;241m.\u001b[39mtotal_seconds()\n\u001b[0;32m----> 6\u001b[0m t1 \u001b[38;5;241m=\u001b[39m \u001b[43mdatetime\u001b[49m\u001b[38;5;241m.\u001b[39mnow()\u001b[38;5;241m.\u001b[39mstrftime(\u001b[38;5;124m\"\u001b[39m\u001b[38;5;124m%\u001b[39m\u001b[38;5;124mH:\u001b[39m\u001b[38;5;124m%\u001b[39m\u001b[38;5;124mM:\u001b[39m\u001b[38;5;124m%\u001b[39m\u001b[38;5;124mS\u001b[39m\u001b[38;5;124m\"\u001b[39m)\n\u001b[1;32m      7\u001b[0m time\u001b[38;5;241m.\u001b[39msleep(\u001b[38;5;241m2\u001b[39m)\n\u001b[1;32m      8\u001b[0m t2 \u001b[38;5;241m=\u001b[39m datetime\u001b[38;5;241m.\u001b[39mnow()\u001b[38;5;241m.\u001b[39mstrftime(\u001b[38;5;124m\"\u001b[39m\u001b[38;5;124m%\u001b[39m\u001b[38;5;124mH:\u001b[39m\u001b[38;5;124m%\u001b[39m\u001b[38;5;124mM:\u001b[39m\u001b[38;5;124m%\u001b[39m\u001b[38;5;124mS\u001b[39m\u001b[38;5;124m\"\u001b[39m)\n",
      "\u001b[0;31mNameError\u001b[0m: name 'datetime' is not defined"
     ]
    }
   ],
   "source": [
    "def calulate_time_diff(t1,t2):\n",
    "    t1 = datetime.strptime(t1, \"%H:%M:%S\")\n",
    "    t2 = datetime.strptime(t2, \"%H:%M:%S\")\n",
    "    diff = t2 - t1\n",
    "    return diff.total_seconds()\n",
    "t1 = datetime.now().strftime(\"%H:%M:%S\")\n",
    "time.sleep(2)\n",
    "t2 = datetime.now().strftime(\"%H:%M:%S\")\n",
    "print(calulate_time_diff(t1,t2))"
   ]
  },
  {
   "cell_type": "code",
   "execution_count": null,
   "metadata": {},
   "outputs": [
    {
     "name": "stdout",
     "output_type": "stream",
     "text": [
      "adding 12.720007074296486 to 192.168.1.3\n",
      "2025-03-01 01:51:56.275417\n",
      "(1734, '192.168.1.3', datetime.datetime(2025, 3, 1, 1, 51, 56, 275417), 12.720007074296486)\n",
      "{'time': '01:51:56', 'voltage': 12.720007074296486}\n",
      "adding 12.400734428702041 to 192.168.1.3\n",
      "2025-03-01 01:51:59.282228\n",
      "(1735, '192.168.1.3', datetime.datetime(2025, 3, 1, 1, 51, 59, 282228), 12.400734428702041)\n",
      "{'time': '01:51:59', 'voltage': 12.400734428702041}\n",
      "adding 13.437683529369348 to 192.168.1.3\n",
      "2025-03-01 01:52:02.289531\n",
      "(1736, '192.168.1.3', datetime.datetime(2025, 3, 1, 1, 52, 2, 289531), 13.437683529369348)\n",
      "{'time': '01:52:02', 'voltage': 13.437683529369348}\n",
      "adding 12.502881095107375 to 192.168.1.3\n",
      "2025-03-01 01:52:05.296824\n",
      "(1737, '192.168.1.3', datetime.datetime(2025, 3, 1, 1, 52, 5, 296824), 12.502881095107375)\n",
      "{'time': '01:52:05', 'voltage': 12.502881095107375}\n",
      "adding 14.727450570538767 to 192.168.1.3\n",
      "2025-03-01 01:52:08.304408\n",
      "(1738, '192.168.1.3', datetime.datetime(2025, 3, 1, 1, 52, 8, 304408), 14.727450570538767)\n",
      "{'time': '01:52:08', 'voltage': 14.727450570538767}\n",
      "adding 14.262267526374082 to 192.168.1.3\n",
      "2025-03-01 01:52:11.311404\n",
      "(1739, '192.168.1.3', datetime.datetime(2025, 3, 1, 1, 52, 11, 311404), 14.262267526374082)\n",
      "{'time': '01:52:11', 'voltage': 14.262267526374082}\n"
     ]
    },
    {
     "ename": "KeyboardInterrupt",
     "evalue": "",
     "output_type": "error",
     "traceback": [
      "\u001b[31m---------------------------------------------------------------------------\u001b[39m",
      "\u001b[31mKeyboardInterrupt\u001b[39m                         Traceback (most recent call last)",
      "\u001b[36mCell\u001b[39m\u001b[36m \u001b[39m\u001b[32mIn[3]\u001b[39m\u001b[32m, line 38\u001b[39m\n\u001b[32m     36\u001b[39m \u001b[38;5;28mprint\u001b[39m(json_top_data)\n\u001b[32m     37\u001b[39m \u001b[38;5;66;03m# get_data()\u001b[39;00m\n\u001b[32m---> \u001b[39m\u001b[32m38\u001b[39m \u001b[43mtime\u001b[49m\u001b[43m.\u001b[49m\u001b[43msleep\u001b[49m\u001b[43m(\u001b[49m\u001b[32;43m3\u001b[39;49m\u001b[43m)\u001b[49m\n",
      "\u001b[31mKeyboardInterrupt\u001b[39m: "
     ]
    }
   ],
   "source": [
    "import random\n",
    "from datetime import datetime\n",
    "import time\n",
    "# Implement retriving data even if the data is not yet in the database? \n",
    "# or this function should ensure that the data will be obtained from the database even if it is little bit older than the time when the request to the api happens\n",
    "ip = '192.168.1.3'\n",
    "TIME_INDEX = 2\n",
    "BAT_INDEX = 3\n",
    "def insert_data():\n",
    "    rand_number = random.uniform(12,15)\n",
    "    print(f\"adding {rand_number} to {ip}\")\n",
    "    db.insert_data(ip,rand_number)\n",
    "            \n",
    "\n",
    "def get_data():\n",
    "    # try: \n",
    "    #     if \n",
    "    # except: \n",
    "    print(\"error\")\n",
    "    # print(data)\n",
    "    # return jsonify(data), 200\n",
    "    # this is to just test and ensure that the front page is requesting for the data \n",
    "    # return jsonify({\"status\": \"error\", \"message\": \"change_me\"}), 500\n",
    "\n",
    "while True:\n",
    "    insert_data()\n",
    "    \n",
    "    data = db.get_data(ip,date=datetime.now().strftime(\"%Y-%m-%d\"))\n",
    "    # this retrives the latest data \n",
    "    top_data = data[len(data)-1]\n",
    "    print(top_data)\n",
    "    json_top_data = {\n",
    "        'time': top_data[TIME_INDEX].strftime(\"%H:%M:%S\"),\n",
    "        'voltage': top_data[BAT_INDEX]\n",
    "        }\n",
    "    print(json_top_data)\n",
    "    # get_data()\n",
    "    time.sleep(20)"
   ]
  },
  {
   "cell_type": "code",
   "execution_count": null,
   "metadata": {},
   "outputs": [],
   "source": [
    "print(datetime.now().timestamp())"
   ]
  },
  {
   "cell_type": "code",
   "execution_count": null,
   "metadata": {},
   "outputs": [],
   "source": [
    "@app.route(\"/api/data\", methods=[\"GET\"])\n",
    "def get_data():\n",
    "    print('date_requested to /api/data')\n",
    "    TIME_INDEX = 2\n",
    "    BAT_INDEX = 3\n",
    "    ip = '192.168.1.2'\n",
    "    raw_data = db.get_data(ip, date=datetime.now().date())\n",
    "    print(len(raw_data))\n",
    "    top_data = raw_data[len(raw_data) - 1]\n",
    "    data = [\n",
    "        {\n",
    "            'timestamp': row[TIME_INDEX].strftime(\"%Y-%m-%d %H:%M:%S\"),\n",
    "            'battery_voltage': row[BAT_INDEX]\n",
    "        }\n",
    "        for row in raw_data\n",
    "    ]\n",
    "    return jsonify(data), 200\n"
   ]
  }
 ],
 "metadata": {
  "kernelspec": {
   "display_name": "venv",
   "language": "python",
   "name": "python3"
  },
  "language_info": {
   "codemirror_mode": {
    "name": "ipython",
    "version": 3
   },
   "file_extension": ".py",
   "mimetype": "text/x-python",
   "name": "python",
   "nbconvert_exporter": "python",
   "pygments_lexer": "ipython3",
   "version": "3.13.1"
  }
 },
 "nbformat": 4,
 "nbformat_minor": 2
}
